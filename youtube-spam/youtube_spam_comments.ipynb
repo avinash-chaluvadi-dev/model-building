{
  "cells": [
    {
      "cell_type": "markdown",
      "source": [
        "## **Youtube Spam Comments Classification**"
      ],
      "metadata": {
        "id": "3W0zZ27B2auw"
      }
    },
    {
      "cell_type": "markdown",
      "metadata": {
        "id": "qy4OaicaaD4u"
      },
      "source": [
        "<br></br>\n",
        "<h3><b> Loading Python Libraries </b></h3>"
      ]
    },
    {
      "cell_type": "code",
      "execution_count": 1,
      "metadata": {
        "colab": {
          "base_uri": "https://localhost:8080/"
        },
        "id": "_E-rL2vo3k3_",
        "outputId": "58d3bc26-c238-4978-ee2c-a25513e14713"
      },
      "outputs": [
        {
          "output_type": "stream",
          "name": "stderr",
          "text": [
            "[nltk_data] Downloading package punkt to /root/nltk_data...\n",
            "[nltk_data]   Package punkt is already up-to-date!\n",
            "[nltk_data] Downloading package stopwords to /root/nltk_data...\n",
            "[nltk_data]   Package stopwords is already up-to-date!\n"
          ]
        }
      ],
      "source": [
        "# Let's import the required python packages\n",
        "import re\n",
        "import nltk\n",
        "import string\n",
        "import datetime\n",
        "import numpy as np\n",
        "import pandas as pd\n",
        "import tensorflow as tf\n",
        "import missingno as msno\n",
        "from sklearn.svm import SVC\n",
        "import matplotlib.pyplot as plt\n",
        "from keras.layers import Dropout\n",
        "from nltk.corpus import stopwords\n",
        "from sklearn import model_selection\n",
        "from keras.models import Sequential\n",
        "from nltk.tokenize import word_tokenize\n",
        "from keras.callbacks import EarlyStopping\n",
        "from sklearn.naive_bayes import MultinomialNB\n",
        "from sklearn.tree import DecisionTreeClassifier\n",
        "from tensorboard.plugins.hparams import api as hp\n",
        "from sklearn.neighbors import KNeighborsClassifier\n",
        "from sklearn.ensemble import RandomForestClassifier\n",
        "from nltk.classify.scikitlearn import SklearnClassifier\n",
        "from sklearn.linear_model import LogisticRegression, SGDClassifier\n",
        "from sklearn.metrics import classification_report, confusion_matrix\n",
        "from keras.layers import Dense, Embedding, Flatten, Conv1D, GlobalMaxPooling1D\n",
        "\n",
        "%matplotlib inline\n",
        "# plt.style.use('seaborn-dark')\n",
        "plt.style.context('grayscale')\n",
        "\n",
        "nltk.download('punkt')\n",
        "nltk.download(\"stopwords\")\n",
        "\n",
        "# Let's define a seed\n",
        "seed = 1\n",
        "np.random.seed = seed"
      ]
    },
    {
      "cell_type": "markdown",
      "metadata": {
        "id": "hkZSBZNKBNVk"
      },
      "source": [
        "<br></br>\n",
        "### **Importing the Data**"
      ]
    },
    {
      "cell_type": "code",
      "execution_count": 2,
      "metadata": {
        "colab": {
          "base_uri": "https://localhost:8080/",
          "height": 329
        },
        "id": "9zp6AdYqBMLZ",
        "outputId": "15f5a176-e95e-4d84-a5cb-e7980b8fbc90"
      },
      "outputs": [
        {
          "output_type": "stream",
          "name": "stdout",
          "text": [
            "Youtube Spam Comments data shape --> (1956, 5)\n",
            "\n"
          ]
        },
        {
          "output_type": "execute_result",
          "data": {
            "text/plain": [
              "                                    COMMENT_ID            AUTHOR  \\\n",
              "0  LZQPQhLyRh80UYxNuaDWhIGQYNQ96IuCg-AYWqNPjpU         Julius NM   \n",
              "1  LZQPQhLyRh_C2cTtd9MvFRJedxydaVW-2sNg5Diuo4A       adam riyati   \n",
              "2  LZQPQhLyRh9MSZYnf8djyk0gEF9BHDPYrrK-qCczIY8  Evgeny Murashkin   \n",
              "3          z13jhp0bxqncu512g22wvzkasxmvvzjaz04   ElNino Melendez   \n",
              "4          z13fwbwp1oujthgqj04chlngpvzmtt3r3dw            GsMega   \n",
              "\n",
              "                  DATE                                            CONTENT  \\\n",
              "0  2013-11-07T06:20:48  Huh, anyway check out this you[tube] channel: ...   \n",
              "1  2013-11-07T12:37:15  Hey guys check out my new channel and our firs...   \n",
              "2  2013-11-08T17:34:21             just for test I have to say murdev.com   \n",
              "3  2013-11-09T08:28:43   me shaking my sexy ass on my channel enjoy ^_^ ﻿   \n",
              "4  2013-11-10T16:05:38            watch?v=vtaRGgvGtWQ   Check this out .﻿   \n",
              "\n",
              "   CLASS  \n",
              "0      1  \n",
              "1      1  \n",
              "2      1  \n",
              "3      1  \n",
              "4      1  "
            ],
            "text/html": [
              "\n",
              "  <div id=\"df-2f22de53-644a-4006-9ea6-943b60f13b0f\" class=\"colab-df-container\">\n",
              "    <div>\n",
              "<style scoped>\n",
              "    .dataframe tbody tr th:only-of-type {\n",
              "        vertical-align: middle;\n",
              "    }\n",
              "\n",
              "    .dataframe tbody tr th {\n",
              "        vertical-align: top;\n",
              "    }\n",
              "\n",
              "    .dataframe thead th {\n",
              "        text-align: right;\n",
              "    }\n",
              "</style>\n",
              "<table border=\"1\" class=\"dataframe\">\n",
              "  <thead>\n",
              "    <tr style=\"text-align: right;\">\n",
              "      <th></th>\n",
              "      <th>COMMENT_ID</th>\n",
              "      <th>AUTHOR</th>\n",
              "      <th>DATE</th>\n",
              "      <th>CONTENT</th>\n",
              "      <th>CLASS</th>\n",
              "    </tr>\n",
              "  </thead>\n",
              "  <tbody>\n",
              "    <tr>\n",
              "      <th>0</th>\n",
              "      <td>LZQPQhLyRh80UYxNuaDWhIGQYNQ96IuCg-AYWqNPjpU</td>\n",
              "      <td>Julius NM</td>\n",
              "      <td>2013-11-07T06:20:48</td>\n",
              "      <td>Huh, anyway check out this you[tube] channel: ...</td>\n",
              "      <td>1</td>\n",
              "    </tr>\n",
              "    <tr>\n",
              "      <th>1</th>\n",
              "      <td>LZQPQhLyRh_C2cTtd9MvFRJedxydaVW-2sNg5Diuo4A</td>\n",
              "      <td>adam riyati</td>\n",
              "      <td>2013-11-07T12:37:15</td>\n",
              "      <td>Hey guys check out my new channel and our firs...</td>\n",
              "      <td>1</td>\n",
              "    </tr>\n",
              "    <tr>\n",
              "      <th>2</th>\n",
              "      <td>LZQPQhLyRh9MSZYnf8djyk0gEF9BHDPYrrK-qCczIY8</td>\n",
              "      <td>Evgeny Murashkin</td>\n",
              "      <td>2013-11-08T17:34:21</td>\n",
              "      <td>just for test I have to say murdev.com</td>\n",
              "      <td>1</td>\n",
              "    </tr>\n",
              "    <tr>\n",
              "      <th>3</th>\n",
              "      <td>z13jhp0bxqncu512g22wvzkasxmvvzjaz04</td>\n",
              "      <td>ElNino Melendez</td>\n",
              "      <td>2013-11-09T08:28:43</td>\n",
              "      <td>me shaking my sexy ass on my channel enjoy ^_^ ﻿</td>\n",
              "      <td>1</td>\n",
              "    </tr>\n",
              "    <tr>\n",
              "      <th>4</th>\n",
              "      <td>z13fwbwp1oujthgqj04chlngpvzmtt3r3dw</td>\n",
              "      <td>GsMega</td>\n",
              "      <td>2013-11-10T16:05:38</td>\n",
              "      <td>watch?v=vtaRGgvGtWQ   Check this out .﻿</td>\n",
              "      <td>1</td>\n",
              "    </tr>\n",
              "  </tbody>\n",
              "</table>\n",
              "</div>\n",
              "    <div class=\"colab-df-buttons\">\n",
              "\n",
              "  <div class=\"colab-df-container\">\n",
              "    <button class=\"colab-df-convert\" onclick=\"convertToInteractive('df-2f22de53-644a-4006-9ea6-943b60f13b0f')\"\n",
              "            title=\"Convert this dataframe to an interactive table.\"\n",
              "            style=\"display:none;\">\n",
              "\n",
              "  <svg xmlns=\"http://www.w3.org/2000/svg\" height=\"24px\" viewBox=\"0 -960 960 960\">\n",
              "    <path d=\"M120-120v-720h720v720H120Zm60-500h600v-160H180v160Zm220 220h160v-160H400v160Zm0 220h160v-160H400v160ZM180-400h160v-160H180v160Zm440 0h160v-160H620v160ZM180-180h160v-160H180v160Zm440 0h160v-160H620v160Z\"/>\n",
              "  </svg>\n",
              "    </button>\n",
              "\n",
              "  <style>\n",
              "    .colab-df-container {\n",
              "      display:flex;\n",
              "      gap: 12px;\n",
              "    }\n",
              "\n",
              "    .colab-df-convert {\n",
              "      background-color: #E8F0FE;\n",
              "      border: none;\n",
              "      border-radius: 50%;\n",
              "      cursor: pointer;\n",
              "      display: none;\n",
              "      fill: #1967D2;\n",
              "      height: 32px;\n",
              "      padding: 0 0 0 0;\n",
              "      width: 32px;\n",
              "    }\n",
              "\n",
              "    .colab-df-convert:hover {\n",
              "      background-color: #E2EBFA;\n",
              "      box-shadow: 0px 1px 2px rgba(60, 64, 67, 0.3), 0px 1px 3px 1px rgba(60, 64, 67, 0.15);\n",
              "      fill: #174EA6;\n",
              "    }\n",
              "\n",
              "    .colab-df-buttons div {\n",
              "      margin-bottom: 4px;\n",
              "    }\n",
              "\n",
              "    [theme=dark] .colab-df-convert {\n",
              "      background-color: #3B4455;\n",
              "      fill: #D2E3FC;\n",
              "    }\n",
              "\n",
              "    [theme=dark] .colab-df-convert:hover {\n",
              "      background-color: #434B5C;\n",
              "      box-shadow: 0px 1px 3px 1px rgba(0, 0, 0, 0.15);\n",
              "      filter: drop-shadow(0px 1px 2px rgba(0, 0, 0, 0.3));\n",
              "      fill: #FFFFFF;\n",
              "    }\n",
              "  </style>\n",
              "\n",
              "    <script>\n",
              "      const buttonEl =\n",
              "        document.querySelector('#df-2f22de53-644a-4006-9ea6-943b60f13b0f button.colab-df-convert');\n",
              "      buttonEl.style.display =\n",
              "        google.colab.kernel.accessAllowed ? 'block' : 'none';\n",
              "\n",
              "      async function convertToInteractive(key) {\n",
              "        const element = document.querySelector('#df-2f22de53-644a-4006-9ea6-943b60f13b0f');\n",
              "        const dataTable =\n",
              "          await google.colab.kernel.invokeFunction('convertToInteractive',\n",
              "                                                    [key], {});\n",
              "        if (!dataTable) return;\n",
              "\n",
              "        const docLinkHtml = 'Like what you see? Visit the ' +\n",
              "          '<a target=\"_blank\" href=https://colab.research.google.com/notebooks/data_table.ipynb>data table notebook</a>'\n",
              "          + ' to learn more about interactive tables.';\n",
              "        element.innerHTML = '';\n",
              "        dataTable['output_type'] = 'display_data';\n",
              "        await google.colab.output.renderOutput(dataTable, element);\n",
              "        const docLink = document.createElement('div');\n",
              "        docLink.innerHTML = docLinkHtml;\n",
              "        element.appendChild(docLink);\n",
              "      }\n",
              "    </script>\n",
              "  </div>\n",
              "\n",
              "\n",
              "<div id=\"df-6f45ce91-8c91-4ded-bdba-d7e8105d1d3f\">\n",
              "  <button class=\"colab-df-quickchart\" onclick=\"quickchart('df-6f45ce91-8c91-4ded-bdba-d7e8105d1d3f')\"\n",
              "            title=\"Suggest charts\"\n",
              "            style=\"display:none;\">\n",
              "\n",
              "<svg xmlns=\"http://www.w3.org/2000/svg\" height=\"24px\"viewBox=\"0 0 24 24\"\n",
              "     width=\"24px\">\n",
              "    <g>\n",
              "        <path d=\"M19 3H5c-1.1 0-2 .9-2 2v14c0 1.1.9 2 2 2h14c1.1 0 2-.9 2-2V5c0-1.1-.9-2-2-2zM9 17H7v-7h2v7zm4 0h-2V7h2v10zm4 0h-2v-4h2v4z\"/>\n",
              "    </g>\n",
              "</svg>\n",
              "  </button>\n",
              "\n",
              "<style>\n",
              "  .colab-df-quickchart {\n",
              "      --bg-color: #E8F0FE;\n",
              "      --fill-color: #1967D2;\n",
              "      --hover-bg-color: #E2EBFA;\n",
              "      --hover-fill-color: #174EA6;\n",
              "      --disabled-fill-color: #AAA;\n",
              "      --disabled-bg-color: #DDD;\n",
              "  }\n",
              "\n",
              "  [theme=dark] .colab-df-quickchart {\n",
              "      --bg-color: #3B4455;\n",
              "      --fill-color: #D2E3FC;\n",
              "      --hover-bg-color: #434B5C;\n",
              "      --hover-fill-color: #FFFFFF;\n",
              "      --disabled-bg-color: #3B4455;\n",
              "      --disabled-fill-color: #666;\n",
              "  }\n",
              "\n",
              "  .colab-df-quickchart {\n",
              "    background-color: var(--bg-color);\n",
              "    border: none;\n",
              "    border-radius: 50%;\n",
              "    cursor: pointer;\n",
              "    display: none;\n",
              "    fill: var(--fill-color);\n",
              "    height: 32px;\n",
              "    padding: 0;\n",
              "    width: 32px;\n",
              "  }\n",
              "\n",
              "  .colab-df-quickchart:hover {\n",
              "    background-color: var(--hover-bg-color);\n",
              "    box-shadow: 0 1px 2px rgba(60, 64, 67, 0.3), 0 1px 3px 1px rgba(60, 64, 67, 0.15);\n",
              "    fill: var(--button-hover-fill-color);\n",
              "  }\n",
              "\n",
              "  .colab-df-quickchart-complete:disabled,\n",
              "  .colab-df-quickchart-complete:disabled:hover {\n",
              "    background-color: var(--disabled-bg-color);\n",
              "    fill: var(--disabled-fill-color);\n",
              "    box-shadow: none;\n",
              "  }\n",
              "\n",
              "  .colab-df-spinner {\n",
              "    border: 2px solid var(--fill-color);\n",
              "    border-color: transparent;\n",
              "    border-bottom-color: var(--fill-color);\n",
              "    animation:\n",
              "      spin 1s steps(1) infinite;\n",
              "  }\n",
              "\n",
              "  @keyframes spin {\n",
              "    0% {\n",
              "      border-color: transparent;\n",
              "      border-bottom-color: var(--fill-color);\n",
              "      border-left-color: var(--fill-color);\n",
              "    }\n",
              "    20% {\n",
              "      border-color: transparent;\n",
              "      border-left-color: var(--fill-color);\n",
              "      border-top-color: var(--fill-color);\n",
              "    }\n",
              "    30% {\n",
              "      border-color: transparent;\n",
              "      border-left-color: var(--fill-color);\n",
              "      border-top-color: var(--fill-color);\n",
              "      border-right-color: var(--fill-color);\n",
              "    }\n",
              "    40% {\n",
              "      border-color: transparent;\n",
              "      border-right-color: var(--fill-color);\n",
              "      border-top-color: var(--fill-color);\n",
              "    }\n",
              "    60% {\n",
              "      border-color: transparent;\n",
              "      border-right-color: var(--fill-color);\n",
              "    }\n",
              "    80% {\n",
              "      border-color: transparent;\n",
              "      border-right-color: var(--fill-color);\n",
              "      border-bottom-color: var(--fill-color);\n",
              "    }\n",
              "    90% {\n",
              "      border-color: transparent;\n",
              "      border-bottom-color: var(--fill-color);\n",
              "    }\n",
              "  }\n",
              "</style>\n",
              "\n",
              "  <script>\n",
              "    async function quickchart(key) {\n",
              "      const quickchartButtonEl =\n",
              "        document.querySelector('#' + key + ' button');\n",
              "      quickchartButtonEl.disabled = true;  // To prevent multiple clicks.\n",
              "      quickchartButtonEl.classList.add('colab-df-spinner');\n",
              "      try {\n",
              "        const charts = await google.colab.kernel.invokeFunction(\n",
              "            'suggestCharts', [key], {});\n",
              "      } catch (error) {\n",
              "        console.error('Error during call to suggestCharts:', error);\n",
              "      }\n",
              "      quickchartButtonEl.classList.remove('colab-df-spinner');\n",
              "      quickchartButtonEl.classList.add('colab-df-quickchart-complete');\n",
              "    }\n",
              "    (() => {\n",
              "      let quickchartButtonEl =\n",
              "        document.querySelector('#df-6f45ce91-8c91-4ded-bdba-d7e8105d1d3f button');\n",
              "      quickchartButtonEl.style.display =\n",
              "        google.colab.kernel.accessAllowed ? 'block' : 'none';\n",
              "    })();\n",
              "  </script>\n",
              "</div>\n",
              "\n",
              "    </div>\n",
              "  </div>\n"
            ]
          },
          "metadata": {},
          "execution_count": 2
        }
      ],
      "source": [
        "# Let's fetch the youtube spam comments dataset into a data_frame\n",
        "psy_df = pd.read_csv('Youtube01-Psy.csv')\n",
        "katy_df = pd.read_csv('Youtube02-KatyPerry.csv')\n",
        "eminem_df = pd.read_csv('Youtube04-Eminem.csv')\n",
        "shakira_df = pd.read_csv('Youtube05-Shakira.csv')\n",
        "lmfao_df = pd.read_csv('Youtube03-LMFAO.csv')\n",
        "\n",
        "# Let's concat all the data into a single dataframe\n",
        "comments_dataframe = pd.concat([psy_df, katy_df, eminem_df, shakira_df, lmfao_df])\n",
        "\n",
        "# Let's take a quick look at the shape of the dataframe\n",
        "print(\"Youtube Spam Comments data shape -->\", comments_dataframe.shape)\n",
        "print()\n",
        "\n",
        "# Let's take a brief look at the contents of the dataframe\n",
        "comments_dataframe.head()"
      ]
    },
    {
      "cell_type": "markdown",
      "metadata": {
        "id": "nFzkfNuDLkDS"
      },
      "source": [
        "<br></br>\n",
        "<h3><b> Gaining Insights from Data </b></h3>"
      ]
    },
    {
      "cell_type": "code",
      "execution_count": 3,
      "metadata": {
        "colab": {
          "base_uri": "https://localhost:8080/"
        },
        "id": "0n-u49rbLfG3",
        "outputId": "940cd334-c4db-4400-f739-a2f2451dff1c"
      },
      "outputs": [
        {
          "output_type": "stream",
          "name": "stdout",
          "text": [
            "<class 'pandas.core.frame.DataFrame'>\n",
            "Int64Index: 1956 entries, 0 to 437\n",
            "Data columns (total 5 columns):\n",
            " #   Column      Non-Null Count  Dtype \n",
            "---  ------      --------------  ----- \n",
            " 0   COMMENT_ID  1956 non-null   object\n",
            " 1   AUTHOR      1956 non-null   object\n",
            " 2   DATE        1711 non-null   object\n",
            " 3   CONTENT     1956 non-null   object\n",
            " 4   CLASS       1956 non-null   int64 \n",
            "dtypes: int64(1), object(4)\n",
            "memory usage: 91.7+ KB\n"
          ]
        }
      ],
      "source": [
        "# Let's obtain a brief overview of the spam comments dataframe\n",
        "comments_dataframe.info()"
      ]
    },
    {
      "cell_type": "markdown",
      "metadata": {
        "id": "SY5QEcYuPrU1"
      },
      "source": [
        "<br></br>\n",
        "### **See how many missing data points we have**"
      ]
    },
    {
      "cell_type": "code",
      "execution_count": 4,
      "metadata": {
        "colab": {
          "base_uri": "https://localhost:8080/"
        },
        "id": "ulG9zf-0PvQo",
        "outputId": "d68f221e-246a-49db-9084-2f58f7da4498"
      },
      "outputs": [
        {
          "output_type": "execute_result",
          "data": {
            "text/plain": [
              "COMMENT_ID      0\n",
              "AUTHOR          0\n",
              "DATE          245\n",
              "CONTENT         0\n",
              "CLASS           0\n",
              "dtype: int64"
            ]
          },
          "metadata": {},
          "execution_count": 4
        }
      ],
      "source": [
        "comments_dataframe.isnull().sum()"
      ]
    },
    {
      "cell_type": "code",
      "execution_count": 5,
      "metadata": {
        "colab": {
          "base_uri": "https://localhost:8080/",
          "height": 447
        },
        "id": "ExBNUrRiQM4e",
        "outputId": "775dda5d-5a9c-4606-ecb1-928b2275270e"
      },
      "outputs": [
        {
          "output_type": "display_data",
          "data": {
            "text/plain": [
              "<Figure size 1600x500 with 3 Axes>"
            ],
            "image/png": "[encoded data removed]"
          },
          "metadata": {}
        }
      ],
      "source": [
        "msno.bar(comments_dataframe, figsize = (16,5),color = \"pink\")\n",
        "plt.show()"
      ]
    },
    {
      "cell_type": "markdown",
      "metadata": {
        "id": "3T7ZMd6dQuZS"
      },
      "source": [
        "<br></br>\n",
        "### **Data Cleaning**"
      ]
    },
    {
      "cell_type": "code",
      "execution_count": 6,
      "metadata": {
        "colab": {
          "base_uri": "https://localhost:8080/",
          "height": 242
        },
        "id": "f7Ze30nWQvbd",
        "outputId": "8d754b56-0d0d-44e9-e275-db3696ee160a"
      },
      "outputs": [
        {
          "output_type": "stream",
          "name": "stdout",
          "text": [
            "Youtube Spam Comments data shape --> (1956, 2)\n",
            "\n"
          ]
        },
        {
          "output_type": "execute_result",
          "data": {
            "text/plain": [
              "                                             CONTENT  CLASS\n",
              "0  Huh, anyway check out this you[tube] channel: ...      1\n",
              "1  Hey guys check out my new channel and our firs...      1\n",
              "2             just for test I have to say murdev.com      1\n",
              "3   me shaking my sexy ass on my channel enjoy ^_^ ﻿      1\n",
              "4            watch?v=vtaRGgvGtWQ   Check this out .﻿      1"
            ],
            "text/html": [
              "\n",
              "  <div id=\"df-f72c94cb-3eb6-4767-a11c-8ecdc5a0c954\" class=\"colab-df-container\">\n",
              "    <div>\n",
              "<style scoped>\n",
              "    .dataframe tbody tr th:only-of-type {\n",
              "        vertical-align: middle;\n",
              "    }\n",
              "\n",
              "    .dataframe tbody tr th {\n",
              "        vertical-align: top;\n",
              "    }\n",
              "\n",
              "    .dataframe thead th {\n",
              "        text-align: right;\n",
              "    }\n",
              "</style>\n",
              "<table border=\"1\" class=\"dataframe\">\n",
              "  <thead>\n",
              "    <tr style=\"text-align: right;\">\n",
              "      <th></th>\n",
              "      <th>CONTENT</th>\n",
              "      <th>CLASS</th>\n",
              "    </tr>\n",
              "  </thead>\n",
              "  <tbody>\n",
              "    <tr>\n",
              "      <th>0</th>\n",
              "      <td>Huh, anyway check out this you[tube] channel: ...</td>\n",
              "      <td>1</td>\n",
              "    </tr>\n",
              "    <tr>\n",
              "      <th>1</th>\n",
              "      <td>Hey guys check out my new channel and our firs...</td>\n",
              "      <td>1</td>\n",
              "    </tr>\n",
              "    <tr>\n",
              "      <th>2</th>\n",
              "      <td>just for test I have to say murdev.com</td>\n",
              "      <td>1</td>\n",
              "    </tr>\n",
              "    <tr>\n",
              "      <th>3</th>\n",
              "      <td>me shaking my sexy ass on my channel enjoy ^_^ ﻿</td>\n",
              "      <td>1</td>\n",
              "    </tr>\n",
              "    <tr>\n",
              "      <th>4</th>\n",
              "      <td>watch?v=vtaRGgvGtWQ   Check this out .﻿</td>\n",
              "      <td>1</td>\n",
              "    </tr>\n",
              "  </tbody>\n",
              "</table>\n",
              "</div>\n",
              "    <div class=\"colab-df-buttons\">\n",
              "\n",
              "  <div class=\"colab-df-container\">\n",
              "    <button class=\"colab-df-convert\" onclick=\"convertToInteractive('df-f72c94cb-3eb6-4767-a11c-8ecdc5a0c954')\"\n",
              "            title=\"Convert this dataframe to an interactive table.\"\n",
              "            style=\"display:none;\">\n",
              "\n",
              "  <svg xmlns=\"http://www.w3.org/2000/svg\" height=\"24px\" viewBox=\"0 -960 960 960\">\n",
              "    <path d=\"M120-120v-720h720v720H120Zm60-500h600v-160H180v160Zm220 220h160v-160H400v160Zm0 220h160v-160H400v160ZM180-400h160v-160H180v160Zm440 0h160v-160H620v160ZM180-180h160v-160H180v160Zm440 0h160v-160H620v160Z\"/>\n",
              "  </svg>\n",
              "    </button>\n",
              "\n",
              "  <style>\n",
              "    .colab-df-container {\n",
              "      display:flex;\n",
              "      gap: 12px;\n",
              "    }\n",
              "\n",
              "    .colab-df-convert {\n",
              "      background-color: #E8F0FE;\n",
              "      border: none;\n",
              "      border-radius: 50%;\n",
              "      cursor: pointer;\n",
              "      display: none;\n",
              "      fill: #1967D2;\n",
              "      height: 32px;\n",
              "      padding: 0 0 0 0;\n",
              "      width: 32px;\n",
              "    }\n",
              "\n",
              "    .colab-df-convert:hover {\n",
              "      background-color: #E2EBFA;\n",
              "      box-shadow: 0px 1px 2px rgba(60, 64, 67, 0.3), 0px 1px 3px 1px rgba(60, 64, 67, 0.15);\n",
              "      fill: #174EA6;\n",
              "    }\n",
              "\n",
              "    .colab-df-buttons div {\n",
              "      margin-bottom: 4px;\n",
              "    }\n",
              "\n",
              "    [theme=dark] .colab-df-convert {\n",
              "      background-color: #3B4455;\n",
              "      fill: #D2E3FC;\n",
              "    }\n",
              "\n",
              "    [theme=dark] .colab-df-convert:hover {\n",
              "      background-color: #434B5C;\n",
              "      box-shadow: 0px 1px 3px 1px rgba(0, 0, 0, 0.15);\n",
              "      filter: drop-shadow(0px 1px 2px rgba(0, 0, 0, 0.3));\n",
              "      fill: #FFFFFF;\n",
              "    }\n",
              "  </style>\n",
              "\n",
              "    <script>\n",
              "      const buttonEl =\n",
              "        document.querySelector('#df-f72c94cb-3eb6-4767-a11c-8ecdc5a0c954 button.colab-df-convert');\n",
              "      buttonEl.style.display =\n",
              "        google.colab.kernel.accessAllowed ? 'block' : 'none';\n",
              "\n",
              "      async function convertToInteractive(key) {\n",
              "        const element = document.querySelector('#df-f72c94cb-3eb6-4767-a11c-8ecdc5a0c954');\n",
              "        const dataTable =\n",
              "          await google.colab.kernel.invokeFunction('convertToInteractive',\n",
              "                                                    [key], {});\n",
              "        if (!dataTable) return;\n",
              "\n",
              "        const docLinkHtml = 'Like what you see? Visit the ' +\n",
              "          '<a target=\"_blank\" href=https://colab.research.google.com/notebooks/data_table.ipynb>data table notebook</a>'\n",
              "          + ' to learn more about interactive tables.';\n",
              "        element.innerHTML = '';\n",
              "        dataTable['output_type'] = 'display_data';\n",
              "        await google.colab.output.renderOutput(dataTable, element);\n",
              "        const docLink = document.createElement('div');\n",
              "        docLink.innerHTML = docLinkHtml;\n",
              "        element.appendChild(docLink);\n",
              "      }\n",
              "    </script>\n",
              "  </div>\n",
              "\n",
              "\n",
              "<div id=\"df-96b2b16b-8621-4594-bb66-d4cd5f8ed0b2\">\n",
              "  <button class=\"colab-df-quickchart\" onclick=\"quickchart('df-96b2b16b-8621-4594-bb66-d4cd5f8ed0b2')\"\n",
              "            title=\"Suggest charts\"\n",
              "            style=\"display:none;\">\n",
              "\n",
              "<svg xmlns=\"http://www.w3.org/2000/svg\" height=\"24px\"viewBox=\"0 0 24 24\"\n",
              "     width=\"24px\">\n",
              "    <g>\n",
              "        <path d=\"M19 3H5c-1.1 0-2 .9-2 2v14c0 1.1.9 2 2 2h14c1.1 0 2-.9 2-2V5c0-1.1-.9-2-2-2zM9 17H7v-7h2v7zm4 0h-2V7h2v10zm4 0h-2v-4h2v4z\"/>\n",
              "    </g>\n",
              "</svg>\n",
              "  </button>\n",
              "\n",
              "<style>\n",
              "  .colab-df-quickchart {\n",
              "      --bg-color: #E8F0FE;\n",
              "      --fill-color: #1967D2;\n",
              "      --hover-bg-color: #E2EBFA;\n",
              "      --hover-fill-color: #174EA6;\n",
              "      --disabled-fill-color: #AAA;\n",
              "      --disabled-bg-color: #DDD;\n",
              "  }\n",
              "\n",
              "  [theme=dark] .colab-df-quickchart {\n",
              "      --bg-color: #3B4455;\n",
              "      --fill-color: #D2E3FC;\n",
              "      --hover-bg-color: #434B5C;\n",
              "      --hover-fill-color: #FFFFFF;\n",
              "      --disabled-bg-color: #3B4455;\n",
              "      --disabled-fill-color: #666;\n",
              "  }\n",
              "\n",
              "  .colab-df-quickchart {\n",
              "    background-color: var(--bg-color);\n",
              "    border: none;\n",
              "    border-radius: 50%;\n",
              "    cursor: pointer;\n",
              "    display: none;\n",
              "    fill: var(--fill-color);\n",
              "    height: 32px;\n",
              "    padding: 0;\n",
              "    width: 32px;\n",
              "  }\n",
              "\n",
              "  .colab-df-quickchart:hover {\n",
              "    background-color: var(--hover-bg-color);\n",
              "    box-shadow: 0 1px 2px rgba(60, 64, 67, 0.3), 0 1px 3px 1px rgba(60, 64, 67, 0.15);\n",
              "    fill: var(--button-hover-fill-color);\n",
              "  }\n",
              "\n",
              "  .colab-df-quickchart-complete:disabled,\n",
              "  .colab-df-quickchart-complete:disabled:hover {\n",
              "    background-color: var(--disabled-bg-color);\n",
              "    fill: var(--disabled-fill-color);\n",
              "    box-shadow: none;\n",
              "  }\n",
              "\n",
              "  .colab-df-spinner {\n",
              "    border: 2px solid var(--fill-color);\n",
              "    border-color: transparent;\n",
              "    border-bottom-color: var(--fill-color);\n",
              "    animation:\n",
              "      spin 1s steps(1) infinite;\n",
              "  }\n",
              "\n",
              "  @keyframes spin {\n",
              "    0% {\n",
              "      border-color: transparent;\n",
              "      border-bottom-color: var(--fill-color);\n",
              "      border-left-color: var(--fill-color);\n",
              "    }\n",
              "    20% {\n",
              "      border-color: transparent;\n",
              "      border-left-color: var(--fill-color);\n",
              "      border-top-color: var(--fill-color);\n",
              "    }\n",
              "    30% {\n",
              "      border-color: transparent;\n",
              "      border-left-color: var(--fill-color);\n",
              "      border-top-color: var(--fill-color);\n",
              "      border-right-color: var(--fill-color);\n",
              "    }\n",
              "    40% {\n",
              "      border-color: transparent;\n",
              "      border-right-color: var(--fill-color);\n",
              "      border-top-color: var(--fill-color);\n",
              "    }\n",
              "    60% {\n",
              "      border-color: transparent;\n",
              "      border-right-color: var(--fill-color);\n",
              "    }\n",
              "    80% {\n",
              "      border-color: transparent;\n",
              "      border-right-color: var(--fill-color);\n",
              "      border-bottom-color: var(--fill-color);\n",
              "    }\n",
              "    90% {\n",
              "      border-color: transparent;\n",
              "      border-bottom-color: var(--fill-color);\n",
              "    }\n",
              "  }\n",
              "</style>\n",
              "\n",
              "  <script>\n",
              "    async function quickchart(key) {\n",
              "      const quickchartButtonEl =\n",
              "        document.querySelector('#' + key + ' button');\n",
              "      quickchartButtonEl.disabled = true;  // To prevent multiple clicks.\n",
              "      quickchartButtonEl.classList.add('colab-df-spinner');\n",
              "      try {\n",
              "        const charts = await google.colab.kernel.invokeFunction(\n",
              "            'suggestCharts', [key], {});\n",
              "      } catch (error) {\n",
              "        console.error('Error during call to suggestCharts:', error);\n",
              "      }\n",
              "      quickchartButtonEl.classList.remove('colab-df-spinner');\n",
              "      quickchartButtonEl.classList.add('colab-df-quickchart-complete');\n",
              "    }\n",
              "    (() => {\n",
              "      let quickchartButtonEl =\n",
              "        document.querySelector('#df-96b2b16b-8621-4594-bb66-d4cd5f8ed0b2 button');\n",
              "      quickchartButtonEl.style.display =\n",
              "        google.colab.kernel.accessAllowed ? 'block' : 'none';\n",
              "    })();\n",
              "  </script>\n",
              "</div>\n",
              "\n",
              "    </div>\n",
              "  </div>\n"
            ]
          },
          "metadata": {},
          "execution_count": 6
        }
      ],
      "source": [
        "## Let's drop the unnecessary columns like COMMENT_ID, AUTHOR and DATE\n",
        "comments_dataframe.drop([\"COMMENT_ID\", \"AUTHOR\", \"DATE\"], axis=1, inplace=True)\n",
        "\n",
        "# Let's take a quick look at the shape of the dataframe\n",
        "print(\"Youtube Spam Comments data shape -->\", comments_dataframe.shape)\n",
        "print()\n",
        "\n",
        "# Let's take a brief look at the contents of the dataframe\n",
        "comments_dataframe.head()"
      ]
    },
    {
      "cell_type": "markdown",
      "metadata": {
        "id": "CjeZTSmiVuFE"
      },
      "source": [
        "<br></br>\n",
        "<h3><b> Exploratory Data Analysis</b></h3>"
      ]
    },
    {
      "cell_type": "code",
      "execution_count": 7,
      "metadata": {
        "colab": {
          "base_uri": "https://localhost:8080/",
          "height": 410
        },
        "id": "WUeO-j7cRhw1",
        "outputId": "2273f702-b3fa-46d0-89f9-fad143aebc87"
      },
      "outputs": [
        {
          "output_type": "display_data",
          "data": {
            "text/plain": [
              "<Figure size 600x400 with 1 Axes>"
            ],
            "image/png": "[encoded data removed]"
          },
          "metadata": {}
        }
      ],
      "source": [
        "# Let's plot the count of spam and non-spam comments\n",
        "plt.figure(figsize=(6, 4))\n",
        "comments_dataframe['CLASS'].value_counts().plot(kind=\"bar\", color=[\"skyblue\", \"salmon\"])\n",
        "plt.title(\"Distribution of Comments (Spam vs Non-Spam)\")\n",
        "plt.xlabel(\"Class\")\n",
        "plt.ylabel(\"Number of Comments\")\n",
        "plt.xticks(ticks=[0, 1], labels=[\"Non-Spam (0)\", \"Spam (1)\"], rotation=0)\n",
        "plt.show()"
      ]
    },
    {
      "cell_type": "markdown",
      "metadata": {
        "id": "QG5FKshmsDld"
      },
      "source": [
        "<br></br>\n",
        "<h3><b> Data Processing</b></h3>"
      ]
    },
    {
      "cell_type": "code",
      "execution_count": 8,
      "metadata": {
        "id": "vZAhNQlOsEDO"
      },
      "outputs": [],
      "source": [
        "def text_processing(text_message):\n",
        "    # Patterns from previous steps\n",
        "    email_regex = re.compile(r'\\b[A-Za-z0-9._%+-]+@[A-Za-z0-9.-]+\\.[A-Z|a-z]{2,}\\b')\n",
        "    url_regex = re.compile(r'http[s]?://(?:[a-zA-Z]|[0-9]|[$-_@.&+]|[!*\\'(),]|(?:%[0-9a-fA-F][0-9a-fA-F]))+')\n",
        "    money_regex = re.compile(r'£|\\$')\n",
        "    phone_regex = re.compile(r'\\b\\d{3}[-.]?\\d{3}[-.]?\\d{4}\\b')\n",
        "    number_regex = re.compile(r'\\b\\d+\\b')\n",
        "\n",
        "    # New patterns\n",
        "    youtube_watch_regex = re.compile(r'watch\\?v=[\\w-]+')\n",
        "    dot_com_regex = re.compile(r'\\.\\s*com')\n",
        "    multiple_exclamation_regex = re.compile(r'!{2,}')\n",
        "    multiple_fullstop_regex = re.compile(r'\\.{2,}')\n",
        "    emoticon_regex = re.compile(r':\\s*[DP]|\\^\\_\\^|-\\_-\\﻿')\n",
        "    unnecessary_symbols_regex = re.compile(r'[\\^<>-]+|▬+|ஜ۩۞۩ஜ+')\n",
        "    m_v_regex = re.compile(r'\\(강남스타일\\) M/V:')\n",
        "    emojis_regex = re.compile(r'[\\u263a-\\U0001f645]')\n",
        "    laughing_emoji_regex = re.compile(r':\\s*\\)')\n",
        "    tilde_regex = re.compile(r'~+')\n",
        "    at_symbol_regex = re.compile(r'@')\n",
        "    hyperurl_regex = re.compile(r'hyperurl\\.co/[\\w-]+')\n",
        "\n",
        "    # Apply replacements\n",
        "    processed = re.sub(email_regex, 'emailaddress', text_message)\n",
        "    processed = re.sub(url_regex, 'webaddress', processed)\n",
        "    processed = re.sub(money_regex, 'moneysymb', processed)\n",
        "    processed = re.sub(phone_regex, 'phonenumber', processed)\n",
        "    processed = re.sub(number_regex, 'numbr', processed)\n",
        "\n",
        "    # Apply new replacements\n",
        "    processed = re.sub(youtube_watch_regex, 'youtubevideo', processed)\n",
        "    processed = re.sub(dot_com_regex, '.com', processed)\n",
        "    processed = re.sub(multiple_exclamation_regex, '!', processed)\n",
        "    processed = re.sub(multiple_fullstop_regex, '.', processed)\n",
        "    processed = re.sub(emoticon_regex, '', processed)\n",
        "    processed = re.sub(unnecessary_symbols_regex, '', processed)\n",
        "    processed = re.sub(m_v_regex, '', processed)\n",
        "    processed = re.sub(emojis_regex, '', processed)\n",
        "    processed = re.sub(laughing_emoji_regex, '', processed)\n",
        "    processed = re.sub(tilde_regex, '', processed)\n",
        "    processed = re.sub(at_symbol_regex, '', processed)\n",
        "    processed = re.sub(hyperurl_regex, 'webaddress', processed)\n",
        "    processed = processed.replace(r'[^\\w\\d\\s]', ' ')\n",
        "\n",
        "    # Replace whitespace between terms with a single space\n",
        "    processed = processed.replace(r'\\s+', ' ')\n",
        "\n",
        "    # Remove leading and trailing whitespace\n",
        "    processed = processed.replace(r'^\\s+|\\s+?$', '')\n",
        "\n",
        "    return processed.lower()"
      ]
    },
    {
      "cell_type": "code",
      "execution_count": 9,
      "metadata": {
        "colab": {
          "base_uri": "https://localhost:8080/",
          "height": 242
        },
        "id": "SS11wEx8st-a",
        "outputId": "a226f24c-25ae-4c05-c3b2-0ee2b6fb7078"
      },
      "outputs": [
        {
          "output_type": "stream",
          "name": "stdout",
          "text": [
            "Youtube Spam Comments data shape --> (1956, 3)\n",
            "\n"
          ]
        },
        {
          "output_type": "execute_result",
          "data": {
            "text/plain": [
              "                                             CONTENT  CLASS  \\\n",
              "0  Huh, anyway check out this you[tube] channel: ...      1   \n",
              "1  Hey guys check out my new channel and our firs...      1   \n",
              "2             just for test I have to say murdev.com      1   \n",
              "3   me shaking my sexy ass on my channel enjoy ^_^ ﻿      1   \n",
              "4            watch?v=vtaRGgvGtWQ   Check this out .﻿      1   \n",
              "\n",
              "                                   processed_content  \n",
              "0  huh, anyway check out this you[tube] channel: ...  \n",
              "1  hey guys check out my new channel and our firs...  \n",
              "2             just for test i have to say murdev.com  \n",
              "3       me shaking my sexy ass on my channel enjoy    \n",
              "4                    youtubevideo   check this out .  "
            ],
            "text/html": [
              "\n",
              "  <div id=\"df-ab0a0b66-f832-4848-b93f-8871c5bf7ae1\" class=\"colab-df-container\">\n",
              "    <div>\n",
              "<style scoped>\n",
              "    .dataframe tbody tr th:only-of-type {\n",
              "        vertical-align: middle;\n",
              "    }\n",
              "\n",
              "    .dataframe tbody tr th {\n",
              "        vertical-align: top;\n",
              "    }\n",
              "\n",
              "    .dataframe thead th {\n",
              "        text-align: right;\n",
              "    }\n",
              "</style>\n",
              "<table border=\"1\" class=\"dataframe\">\n",
              "  <thead>\n",
              "    <tr style=\"text-align: right;\">\n",
              "      <th></th>\n",
              "      <th>CONTENT</th>\n",
              "      <th>CLASS</th>\n",
              "      <th>processed_content</th>\n",
              "    </tr>\n",
              "  </thead>\n",
              "  <tbody>\n",
              "    <tr>\n",
              "      <th>0</th>\n",
              "      <td>Huh, anyway check out this you[tube] channel: ...</td>\n",
              "      <td>1</td>\n",
              "      <td>huh, anyway check out this you[tube] channel: ...</td>\n",
              "    </tr>\n",
              "    <tr>\n",
              "      <th>1</th>\n",
              "      <td>Hey guys check out my new channel and our firs...</td>\n",
              "      <td>1</td>\n",
              "      <td>hey guys check out my new channel and our firs...</td>\n",
              "    </tr>\n",
              "    <tr>\n",
              "      <th>2</th>\n",
              "      <td>just for test I have to say murdev.com</td>\n",
              "      <td>1</td>\n",
              "      <td>just for test i have to say murdev.com</td>\n",
              "    </tr>\n",
              "    <tr>\n",
              "      <th>3</th>\n",
              "      <td>me shaking my sexy ass on my channel enjoy ^_^ ﻿</td>\n",
              "      <td>1</td>\n",
              "      <td>me shaking my sexy ass on my channel enjoy</td>\n",
              "    </tr>\n",
              "    <tr>\n",
              "      <th>4</th>\n",
              "      <td>watch?v=vtaRGgvGtWQ   Check this out .﻿</td>\n",
              "      <td>1</td>\n",
              "      <td>youtubevideo   check this out .</td>\n",
              "    </tr>\n",
              "  </tbody>\n",
              "</table>\n",
              "</div>\n",
              "    <div class=\"colab-df-buttons\">\n",
              "\n",
              "  <div class=\"colab-df-container\">\n",
              "    <button class=\"colab-df-convert\" onclick=\"convertToInteractive('df-ab0a0b66-f832-4848-b93f-8871c5bf7ae1')\"\n",
              "            title=\"Convert this dataframe to an interactive table.\"\n",
              "            style=\"display:none;\">\n",
              "\n",
              "  <svg xmlns=\"http://www.w3.org/2000/svg\" height=\"24px\" viewBox=\"0 -960 960 960\">\n",
              "    <path d=\"M120-120v-720h720v720H120Zm60-500h600v-160H180v160Zm220 220h160v-160H400v160Zm0 220h160v-160H400v160ZM180-400h160v-160H180v160Zm440 0h160v-160H620v160ZM180-180h160v-160H180v160Zm440 0h160v-160H620v160Z\"/>\n",
              "  </svg>\n",
              "    </button>\n",
              "\n",
              "  <style>\n",
              "    .colab-df-container {\n",
              "      display:flex;\n",
              "      gap: 12px;\n",
              "    }\n",
              "\n",
              "    .colab-df-convert {\n",
              "      background-color: #E8F0FE;\n",
              "      border: none;\n",
              "      border-radius: 50%;\n",
              "      cursor: pointer;\n",
              "      display: none;\n",
              "      fill: #1967D2;\n",
              "      height: 32px;\n",
              "      padding: 0 0 0 0;\n",
              "      width: 32px;\n",
              "    }\n",
              "\n",
              "    .colab-df-convert:hover {\n",
              "      background-color: #E2EBFA;\n",
              "      box-shadow: 0px 1px 2px rgba(60, 64, 67, 0.3), 0px 1px 3px 1px rgba(60, 64, 67, 0.15);\n",
              "      fill: #174EA6;\n",
              "    }\n",
              "\n",
              "    .colab-df-buttons div {\n",
              "      margin-bottom: 4px;\n",
              "    }\n",
              "\n",
              "    [theme=dark] .colab-df-convert {\n",
              "      background-color: #3B4455;\n",
              "      fill: #D2E3FC;\n",
              "    }\n",
              "\n",
              "    [theme=dark] .colab-df-convert:hover {\n",
              "      background-color: #434B5C;\n",
              "      box-shadow: 0px 1px 3px 1px rgba(0, 0, 0, 0.15);\n",
              "      filter: drop-shadow(0px 1px 2px rgba(0, 0, 0, 0.3));\n",
              "      fill: #FFFFFF;\n",
              "    }\n",
              "  </style>\n",
              "\n",
              "    <script>\n",
              "      const buttonEl =\n",
              "        document.querySelector('#df-ab0a0b66-f832-4848-b93f-8871c5bf7ae1 button.colab-df-convert');\n",
              "      buttonEl.style.display =\n",
              "        google.colab.kernel.accessAllowed ? 'block' : 'none';\n",
              "\n",
              "      async function convertToInteractive(key) {\n",
              "        const element = document.querySelector('#df-ab0a0b66-f832-4848-b93f-8871c5bf7ae1');\n",
              "        const dataTable =\n",
              "          await google.colab.kernel.invokeFunction('convertToInteractive',\n",
              "                                                    [key], {});\n",
              "        if (!dataTable) return;\n",
              "\n",
              "        const docLinkHtml = 'Like what you see? Visit the ' +\n",
              "          '<a target=\"_blank\" href=https://colab.research.google.com/notebooks/data_table.ipynb>data table notebook</a>'\n",
              "          + ' to learn more about interactive tables.';\n",
              "        element.innerHTML = '';\n",
              "        dataTable['output_type'] = 'display_data';\n",
              "        await google.colab.output.renderOutput(dataTable, element);\n",
              "        const docLink = document.createElement('div');\n",
              "        docLink.innerHTML = docLinkHtml;\n",
              "        element.appendChild(docLink);\n",
              "      }\n",
              "    </script>\n",
              "  </div>\n",
              "\n",
              "\n",
              "<div id=\"df-a47b0deb-700f-4bce-8499-7cf1c0b96c9b\">\n",
              "  <button class=\"colab-df-quickchart\" onclick=\"quickchart('df-a47b0deb-700f-4bce-8499-7cf1c0b96c9b')\"\n",
              "            title=\"Suggest charts\"\n",
              "            style=\"display:none;\">\n",
              "\n",
              "<svg xmlns=\"http://www.w3.org/2000/svg\" height=\"24px\"viewBox=\"0 0 24 24\"\n",
              "     width=\"24px\">\n",
              "    <g>\n",
              "        <path d=\"M19 3H5c-1.1 0-2 .9-2 2v14c0 1.1.9 2 2 2h14c1.1 0 2-.9 2-2V5c0-1.1-.9-2-2-2zM9 17H7v-7h2v7zm4 0h-2V7h2v10zm4 0h-2v-4h2v4z\"/>\n",
              "    </g>\n",
              "</svg>\n",
              "  </button>\n",
              "\n",
              "<style>\n",
              "  .colab-df-quickchart {\n",
              "      --bg-color: #E8F0FE;\n",
              "      --fill-color: #1967D2;\n",
              "      --hover-bg-color: #E2EBFA;\n",
              "      --hover-fill-color: #174EA6;\n",
              "      --disabled-fill-color: #AAA;\n",
              "      --disabled-bg-color: #DDD;\n",
              "  }\n",
              "\n",
              "  [theme=dark] .colab-df-quickchart {\n",
              "      --bg-color: #3B4455;\n",
              "      --fill-color: #D2E3FC;\n",
              "      --hover-bg-color: #434B5C;\n",
              "      --hover-fill-color: #FFFFFF;\n",
              "      --disabled-bg-color: #3B4455;\n",
              "      --disabled-fill-color: #666;\n",
              "  }\n",
              "\n",
              "  .colab-df-quickchart {\n",
              "    background-color: var(--bg-color);\n",
              "    border: none;\n",
              "    border-radius: 50%;\n",
              "    cursor: pointer;\n",
              "    display: none;\n",
              "    fill: var(--fill-color);\n",
              "    height: 32px;\n",
              "    padding: 0;\n",
              "    width: 32px;\n",
              "  }\n",
              "\n",
              "  .colab-df-quickchart:hover {\n",
              "    background-color: var(--hover-bg-color);\n",
              "    box-shadow: 0 1px 2px rgba(60, 64, 67, 0.3), 0 1px 3px 1px rgba(60, 64, 67, 0.15);\n",
              "    fill: var(--button-hover-fill-color);\n",
              "  }\n",
              "\n",
              "  .colab-df-quickchart-complete:disabled,\n",
              "  .colab-df-quickchart-complete:disabled:hover {\n",
              "    background-color: var(--disabled-bg-color);\n",
              "    fill: var(--disabled-fill-color);\n",
              "    box-shadow: none;\n",
              "  }\n",
              "\n",
              "  .colab-df-spinner {\n",
              "    border: 2px solid var(--fill-color);\n",
              "    border-color: transparent;\n",
              "    border-bottom-color: var(--fill-color);\n",
              "    animation:\n",
              "      spin 1s steps(1) infinite;\n",
              "  }\n",
              "\n",
              "  @keyframes spin {\n",
              "    0% {\n",
              "      border-color: transparent;\n",
              "      border-bottom-color: var(--fill-color);\n",
              "      border-left-color: var(--fill-color);\n",
              "    }\n",
              "    20% {\n",
              "      border-color: transparent;\n",
              "      border-left-color: var(--fill-color);\n",
              "      border-top-color: var(--fill-color);\n",
              "    }\n",
              "    30% {\n",
              "      border-color: transparent;\n",
              "      border-left-color: var(--fill-color);\n",
              "      border-top-color: var(--fill-color);\n",
              "      border-right-color: var(--fill-color);\n",
              "    }\n",
              "    40% {\n",
              "      border-color: transparent;\n",
              "      border-right-color: var(--fill-color);\n",
              "      border-top-color: var(--fill-color);\n",
              "    }\n",
              "    60% {\n",
              "      border-color: transparent;\n",
              "      border-right-color: var(--fill-color);\n",
              "    }\n",
              "    80% {\n",
              "      border-color: transparent;\n",
              "      border-right-color: var(--fill-color);\n",
              "      border-bottom-color: var(--fill-color);\n",
              "    }\n",
              "    90% {\n",
              "      border-color: transparent;\n",
              "      border-bottom-color: var(--fill-color);\n",
              "    }\n",
              "  }\n",
              "</style>\n",
              "\n",
              "  <script>\n",
              "    async function quickchart(key) {\n",
              "      const quickchartButtonEl =\n",
              "        document.querySelector('#' + key + ' button');\n",
              "      quickchartButtonEl.disabled = true;  // To prevent multiple clicks.\n",
              "      quickchartButtonEl.classList.add('colab-df-spinner');\n",
              "      try {\n",
              "        const charts = await google.colab.kernel.invokeFunction(\n",
              "            'suggestCharts', [key], {});\n",
              "      } catch (error) {\n",
              "        console.error('Error during call to suggestCharts:', error);\n",
              "      }\n",
              "      quickchartButtonEl.classList.remove('colab-df-spinner');\n",
              "      quickchartButtonEl.classList.add('colab-df-quickchart-complete');\n",
              "    }\n",
              "    (() => {\n",
              "      let quickchartButtonEl =\n",
              "        document.querySelector('#df-a47b0deb-700f-4bce-8499-7cf1c0b96c9b button');\n",
              "      quickchartButtonEl.style.display =\n",
              "        google.colab.kernel.accessAllowed ? 'block' : 'none';\n",
              "    })();\n",
              "  </script>\n",
              "</div>\n",
              "\n",
              "    </div>\n",
              "  </div>\n"
            ]
          },
          "metadata": {},
          "execution_count": 9
        }
      ],
      "source": [
        "# Apply the data pre-processing function to the 'CONTENT' column\n",
        "comments_dataframe['processed_content'] = comments_dataframe['CONTENT'].apply(text_processing)\n",
        "\n",
        "# Let's take a quick look at the shape of the dataframe\n",
        "print(\"Youtube Spam Comments data shape -->\", comments_dataframe.shape)\n",
        "print()\n",
        "\n",
        "# Let's take a brief look at the contents of the dataframe\n",
        "comments_dataframe.head()"
      ]
    },
    {
      "cell_type": "code",
      "execution_count": 10,
      "metadata": {
        "id": "HCG-PI5i8toF"
      },
      "outputs": [],
      "source": [
        "# Let's define stop words and punctuations\n",
        "punctuations = list(string.punctuation)\n",
        "stop_words = set(stopwords.words(\"english\"))\n",
        "\n",
        "# Let's remove the stop words from text messages\n",
        "def remove_stopwords_punctuations(text):\n",
        "    tokens = word_tokenize(text)\n",
        "    tokens = [word for word in tokens if word not in stop_words and word not in punctuations]\n",
        "    filtered_text = ' '.join(tokens)\n",
        "    return filtered_text\n",
        "\n",
        "# Apply the function to the 'processed_content' column\n",
        "comments_dataframe[\"processed_content\"] = comments_dataframe[\"processed_content\"].apply(remove_stopwords_punctuations)"
      ]
    },
    {
      "cell_type": "code",
      "execution_count": 11,
      "metadata": {
        "id": "bOXX4HFYNgTd"
      },
      "outputs": [],
      "source": [
        "# Let's create bag-of-words\n",
        "all_words = []\n",
        "\n",
        "for message in comments_dataframe[\"processed_content\"]:\n",
        "    words = word_tokenize(message)\n",
        "    for w in words:\n",
        "        all_words.append(w)\n",
        "\n",
        "all_words = nltk.FreqDist(all_words)"
      ]
    },
    {
      "cell_type": "code",
      "execution_count": 12,
      "metadata": {
        "colab": {
          "base_uri": "https://localhost:8080/"
        },
        "id": "fOQ9Ev0vNvws",
        "outputId": "d1ff0bdd-2552-41e6-c77e-178615db084e"
      },
      "outputs": [
        {
          "output_type": "stream",
          "name": "stdout",
          "text": [
            "Number of words: 3899\n",
            "Most common words: [('numbr', 785), ('check', 569), ('video', 306), ('song', 281), ('webaddress', 252)]\n"
          ]
        }
      ],
      "source": [
        "# Let's print the total number of words and the 15 most common words\n",
        "print('Number of words: {}'.format(len(all_words)))\n",
        "print('Most common words: {}'.format(all_words.most_common(5)))\n",
        "\n",
        "# Let's use the 1500 most common words as features\n",
        "word_features = list(all_words.keys())[:1500]"
      ]
    },
    {
      "cell_type": "code",
      "execution_count": 13,
      "metadata": {
        "id": "22_ChyYxTUMw"
      },
      "outputs": [],
      "source": [
        "def find_features(message):\n",
        "    words = word_tokenize(message)\n",
        "    features = {}\n",
        "    for word in word_features:\n",
        "        features[word] = (word in words)\n",
        "\n",
        "    return features"
      ]
    },
    {
      "cell_type": "code",
      "execution_count": 14,
      "metadata": {
        "id": "wKM1skXeTXZZ"
      },
      "outputs": [],
      "source": [
        "messages = list(zip(comments_dataframe[\"processed_content\"], comments_dataframe[\"CLASS\"]))\n",
        "\n",
        "\n",
        "np.random.shuffle(messages)\n",
        "\n",
        "# call find_features function for each SMS message\n",
        "featuresets = [(find_features(text), label) for (text, label) in messages]"
      ]
    },
    {
      "cell_type": "code",
      "execution_count": 15,
      "metadata": {
        "id": "q2CM5aE-WUDQ"
      },
      "outputs": [],
      "source": [
        "# Let's split the data into train and test data\n",
        "training, testing = model_selection.train_test_split(featuresets, test_size = 0.25, random_state=seed)"
      ]
    },
    {
      "cell_type": "markdown",
      "metadata": {
        "id": "I1u5EyhQZ89B"
      },
      "source": [
        "<br></br>\n",
        "<b><h3> Comparing Performance of Different Models </h3></b>"
      ]
    },
    {
      "cell_type": "code",
      "execution_count": 16,
      "metadata": {
        "id": "HVRlYExScpG2"
      },
      "outputs": [],
      "source": [
        "def train_and_evaluate_classifiers(training, testing):\n",
        "    # Define models to train\n",
        "    names = [\"K Nearest Neighbors\", \"Decision Tree\", \"Random Forest\", \"Logistic Regression\", \"SGD Classifier\",\n",
        "             \"Naive Bayes\", \"SVM Linear\"]\n",
        "\n",
        "    classifiers = [\n",
        "        KNeighborsClassifier(),\n",
        "        DecisionTreeClassifier(),\n",
        "        RandomForestClassifier(),\n",
        "        LogisticRegression(),\n",
        "        SGDClassifier(max_iter=100),\n",
        "        MultinomialNB(),\n",
        "        SVC(kernel='linear')\n",
        "    ]\n",
        "\n",
        "    models = zip(names, classifiers)\n",
        "    model_names = []\n",
        "    results = []\n",
        "\n",
        "    for name, model in models:\n",
        "        nltk_model = SklearnClassifier(model)\n",
        "        nltk_model.train(training)\n",
        "        accuracy = nltk.classify.accuracy(nltk_model, testing) * 100\n",
        "        print(\"{} Accuracy: {}\".format(name, accuracy))\n",
        "        model_names.append(name)\n",
        "        results.append(accuracy)\n",
        "\n",
        "    # Return the results\n",
        "    return model_names, results"
      ]
    },
    {
      "cell_type": "code",
      "execution_count": 17,
      "metadata": {
        "id": "oJVCSO32d1Kx",
        "colab": {
          "base_uri": "https://localhost:8080/"
        },
        "outputId": "f7cb5ec4-8d14-468d-cfce-4504f56d6c6d"
      },
      "outputs": [
        {
          "output_type": "stream",
          "name": "stdout",
          "text": [
            "K Nearest Neighbors Accuracy: 85.88957055214725\n",
            "Decision Tree Accuracy: 94.27402862985686\n",
            "Random Forest Accuracy: 95.29652351738241\n",
            "Logistic Regression Accuracy: 95.50102249488752\n",
            "SGD Classifier Accuracy: 93.4560327198364\n",
            "Naive Bayes Accuracy: 86.9120654396728\n",
            "SVM Linear Accuracy: 94.27402862985686\n"
          ]
        }
      ],
      "source": [
        "# Let's train and evaluate the classifiers\n",
        "model_names, results = train_and_evaluate_classifiers(training, testing)"
      ]
    },
    {
      "cell_type": "markdown",
      "metadata": {
        "id": "66iDB-3b6DQY"
      },
      "source": [
        "<br></br>\n",
        "<b><h3> Hyperparameter Tuning with Grid Search </h3></b>"
      ]
    },
    {
      "cell_type": "code",
      "execution_count": 18,
      "metadata": {
        "id": "wgHYciCM6END",
        "colab": {
          "base_uri": "https://localhost:8080/"
        },
        "outputId": "c12187c5-f309-4732-89f2-adcc1f424060"
      },
      "outputs": [
        {
          "output_type": "stream",
          "name": "stdout",
          "text": [
            "Fitting 3 folds for each of 864 candidates, totalling 2592 fits\n",
            "Best Model: RandomForestClassifier(bootstrap=False, min_samples_split=5, n_estimators=400)\n",
            "Accuracy: 96.11451942740287%\n"
          ]
        }
      ],
      "source": [
        "from sklearn.model_selection import GridSearchCV\n",
        "\n",
        "# Let's define the parameter grid for parameter optimization\n",
        "param_grid = {\n",
        "    'n_estimators': [100, 200, 300, 400, 600, 800, 1000, 1200],\n",
        "    'max_depth': [None, 10, 20, 30, 40, 50],\n",
        "    'min_samples_split': [2, 5, 10],\n",
        "    'min_samples_leaf': [1, 2, 4],\n",
        "    'bootstrap': [True, False]\n",
        "    # Add more parameters here if needed\n",
        "}\n",
        "\n",
        "grid_search = GridSearchCV(estimator=RandomForestClassifier(), param_grid=param_grid, cv=3, n_jobs=-1, verbose=2)\n",
        "nltk_model = SklearnClassifier(grid_search)\n",
        "\n",
        "# Let's train the nltk model using the training set\n",
        "nltk_model.train(training)\n",
        "best_model = nltk_model._clf.best_estimator_\n",
        "\n",
        "# Let's evaluate the accuracy of the best model on the testing set\n",
        "accuracy = nltk.classify.accuracy(nltk_model, testing)\n",
        "\n",
        "print(f\"Best Model: {best_model}\")\n",
        "print(f\"Accuracy: {accuracy * 100}%\")"
      ]
    },
    {
      "cell_type": "markdown",
      "metadata": {
        "id": "oPQWQuqprlpd"
      },
      "source": [
        "<br></br>\n",
        "<b><h3> Neural Network Implementation </h3></b>"
      ]
    },
    {
      "cell_type": "markdown",
      "metadata": {
        "id": "A-q4DOh7B95S"
      },
      "source": [
        "<b><h5> Feed Forward Neural Network(ANN) </h5></b>"
      ]
    },
    {
      "cell_type": "code",
      "execution_count": 19,
      "metadata": {
        "id": "UbsPrpbQrlBU"
      },
      "outputs": [],
      "source": [
        "def tokenize_and_pad_sequences(texts, tokenizer, is_train=True, max_seq_len=None, padding_type='post'):\n",
        "    # Let's tokenize the sentences\n",
        "    sequences = tokenizer.texts_to_sequences(texts)\n",
        "\n",
        "    # Let's pad the sequences to max-length\n",
        "    padded_sequences = tf.keras.preprocessing.sequence.pad_sequences(sequences, maxlen=max_seq_len, padding=padding_type)\n",
        "\n",
        "    return padded_sequences\n"
      ]
    },
    {
      "cell_type": "code",
      "execution_count": 20,
      "metadata": {
        "id": "a_J9gapnu50d"
      },
      "outputs": [],
      "source": [
        "def preprocess_text_data(comments_dataframe):\n",
        "    df = comments_dataframe.copy()\n",
        "\n",
        "    # Let's split the data\n",
        "    content = df[\"processed_content\"]\n",
        "    labels = df[\"CLASS\"]\n",
        "\n",
        "    content_train, content_test, labels_train, labels_test = model_selection.train_test_split(content, labels, test_size=0.30, shuffle=True, random_state=1)\n",
        "\n",
        "    # Let's create a tokenizer and fit sentences\n",
        "    content_tokenizer = tf.keras.preprocessing.text.Tokenizer()\n",
        "    content_tokenizer.fit_on_texts(content_train)\n",
        "    vocab_size = len(content_tokenizer.word_index) + 1\n",
        "    print(f\"Vocabulary Size: {vocab_size}\")\n",
        "\n",
        "    # Let's create tokens for train sentences\n",
        "    content_train_seq = tokenize_and_pad_sequences(content_train, content_tokenizer, is_train=True)\n",
        "    max_seq_length = content_train_seq.shape[1]\n",
        "    print(f\"Max Sequence Length(Train Data): {max_seq_length}\")\n",
        "\n",
        "    # Let's create tokens for test sentences\n",
        "    content_test_seq = tokenize_and_pad_sequences(content_test, content_tokenizer, max_seq_len=max_seq_length)\n",
        "    print(f\"Max Sequence Length(Test Data): {max_seq_length}\")\n",
        "\n",
        "\n",
        "    return content_train_seq, content_test_seq, labels_train, labels_test, vocab_size, max_seq_length\n"
      ]
    },
    {
      "cell_type": "code",
      "execution_count": 21,
      "metadata": {
        "id": "dCkFqalYwR3D",
        "colab": {
          "base_uri": "https://localhost:8080/"
        },
        "outputId": "bc40cf7a-63b6-43e2-8afb-5100ad371615"
      },
      "outputs": [
        {
          "output_type": "stream",
          "name": "stdout",
          "text": [
            "Vocabulary Size: 2994\n",
            "Max Sequence Length(Train Data): 114\n",
            "Max Sequence Length(Test Data): 114\n"
          ]
        }
      ],
      "source": [
        "# Let's call preprocess_text_data to get training and evaluation data samples\n",
        "X_train, X_test, y_train, y_test, _, _ = preprocess_text_data(comments_dataframe)"
      ]
    },
    {
      "cell_type": "code",
      "execution_count": 22,
      "metadata": {
        "id": "TJgwhshEwiC7",
        "colab": {
          "base_uri": "https://localhost:8080/"
        },
        "outputId": "c670ce01-957a-44bf-ce56-b7d310a2f8ef"
      },
      "outputs": [
        {
          "output_type": "stream",
          "name": "stdout",
          "text": [
            "Model: \"sequential\"\n",
            "_________________________________________________________________\n",
            " Layer (type)                Output Shape              Param #   \n",
            "=================================================================\n",
            " embedding (Embedding)       (None, 114, 300)          1146300   \n",
            "                                                                 \n",
            " flatten (Flatten)           (None, 34200)             0         \n",
            "                                                                 \n",
            " dense (Dense)               (None, 64)                2188864   \n",
            "                                                                 \n",
            " dropout (Dropout)           (None, 64)                0         \n",
            "                                                                 \n",
            " dense_1 (Dense)             (None, 128)               8320      \n",
            "                                                                 \n",
            " dropout_1 (Dropout)         (None, 128)               0         \n",
            "                                                                 \n",
            " dense_2 (Dense)             (None, 1)                 129       \n",
            "                                                                 \n",
            "=================================================================\n",
            "Total params: 3343613 (12.75 MB)\n",
            "Trainable params: 3343613 (12.75 MB)\n",
            "Non-trainable params: 0 (0.00 Byte)\n",
            "_________________________________________________________________\n"
          ]
        }
      ],
      "source": [
        "# Let's define the sequential model\n",
        "model_text_classifier = Sequential([\n",
        "    # Embedding layer\n",
        "    Embedding(input_dim=3821, output_dim=300, input_length=X_train.shape[1]),\n",
        "\n",
        "    # Flatten the output of the embedding layer\n",
        "    Flatten(),\n",
        "\n",
        "    # Dense layers\n",
        "    Dense(64, activation='relu'),\n",
        "    Dropout(0.7),\n",
        "\n",
        "    Dense(128, activation='relu'),\n",
        "    Dropout(0.7),\n",
        "\n",
        "\n",
        "    # Output layer\n",
        "    Dense(1, activation='sigmoid')\n",
        "])\n",
        "\n",
        "# Let's compile the model\n",
        "model_text_classifier.compile(\n",
        "    loss='binary_crossentropy',\n",
        "    optimizer='adam',\n",
        "    metrics=['accuracy', tf.keras.metrics.AUC(name='auc')]\n",
        ")\n",
        "\n",
        "# Let's print model summary\n",
        "model_text_classifier.summary()\n"
      ]
    },
    {
      "cell_type": "code",
      "execution_count": 23,
      "metadata": {
        "id": "0Kjtn0y1x1CF",
        "colab": {
          "base_uri": "https://localhost:8080/"
        },
        "outputId": "31229abb-0a07-454f-9fb8-54f605f19fcf"
      },
      "outputs": [
        {
          "output_type": "stream",
          "name": "stdout",
          "text": [
            "Epoch 1/10\n",
            "35/35 [==============================] - 3s 59ms/step - loss: 0.7476 - accuracy: 0.5014 - auc: 0.4820 - val_loss: 0.6925 - val_accuracy: 0.5036 - val_auc: 0.5145\n",
            "Epoch 2/10\n",
            "35/35 [==============================] - 2s 67ms/step - loss: 0.6910 - accuracy: 0.5370 - auc: 0.5457 - val_loss: 0.6858 - val_accuracy: 0.5036 - val_auc: 0.8264\n",
            "Epoch 3/10\n",
            "35/35 [==============================] - 2s 55ms/step - loss: 0.6869 - accuracy: 0.5215 - auc: 0.5091 - val_loss: 0.6794 - val_accuracy: 0.5036 - val_auc: 0.7085\n",
            "Epoch 4/10\n",
            "35/35 [==============================] - 2s 47ms/step - loss: 0.6596 - accuracy: 0.5215 - auc: 0.6131 - val_loss: 0.6219 - val_accuracy: 0.5036 - val_auc: 0.9429\n",
            "Epoch 5/10\n",
            "35/35 [==============================] - 2s 47ms/step - loss: 0.5356 - accuracy: 0.6155 - auc: 0.8736 - val_loss: 0.4296 - val_accuracy: 0.9161 - val_auc: 0.9783\n",
            "Epoch 6/10\n",
            "35/35 [==============================] - 2s 47ms/step - loss: 0.3914 - accuracy: 0.9233 - auc: 0.9720 - val_loss: 0.3726 - val_accuracy: 0.9234 - val_auc: 0.9795\n",
            "Epoch 7/10\n",
            "35/35 [==============================] - 2s 48ms/step - loss: 0.3080 - accuracy: 0.9607 - auc: 0.9881 - val_loss: 0.2406 - val_accuracy: 0.9453 - val_auc: 0.9836\n",
            "Epoch 8/10\n",
            "35/35 [==============================] - 2s 48ms/step - loss: 0.2246 - accuracy: 0.9781 - auc: 0.9879 - val_loss: 0.1907 - val_accuracy: 0.9416 - val_auc: 0.9860\n",
            "Epoch 9/10\n",
            "35/35 [==============================] - 2s 66ms/step - loss: 0.1449 - accuracy: 0.9845 - auc: 0.9926 - val_loss: 0.2361 - val_accuracy: 0.9197 - val_auc: 0.9861\n",
            "Epoch 10/10\n",
            "35/35 [==============================] - 2s 60ms/step - loss: 0.0918 - accuracy: 0.9918 - auc: 0.9962 - val_loss: 0.1921 - val_accuracy: 0.9416 - val_auc: 0.9717\n"
          ]
        }
      ],
      "source": [
        "# Let's define early stopping callback\n",
        "early_stopping_callback = EarlyStopping(\n",
        "    monitor='val_loss',\n",
        "    patience=5,  # Increased patience\n",
        "    restore_best_weights=True\n",
        ")\n",
        "\n",
        "# Let's train the model\n",
        "history_text_classifier = model_text_classifier.fit(\n",
        "    X_train,\n",
        "    y_train,\n",
        "    validation_split=0.2,\n",
        "    batch_size=32,\n",
        "    epochs=10,\n",
        "    callbacks=[early_stopping_callback]\n",
        ")"
      ]
    },
    {
      "cell_type": "code",
      "execution_count": 24,
      "metadata": {
        "id": "RF-z4cMf51Ol",
        "colab": {
          "base_uri": "https://localhost:8080/"
        },
        "outputId": "f26a6f0e-15a1-4c89-b210-ae5971b7495b"
      },
      "outputs": [
        {
          "output_type": "stream",
          "name": "stdout",
          "text": [
            "Test Accuracy: 94.2078%\n",
            "Test AUC Score: 0.964\n"
          ]
        }
      ],
      "source": [
        "# Let's test the model with best weights avialble from callback\n",
        "test_performance = model_text_classifier.evaluate(X_test, y_test, verbose=0)\n",
        "\n",
        "# Let's extract the accuracy and AUC from the results\n",
        "accuracy = test_performance[1] * 100\n",
        "auc_score = test_performance[2]\n",
        "\n",
        "# Let's display the metrics in a formatted way\n",
        "print(f\"Test Accuracy: {accuracy:.4f}%\")\n",
        "print(f\"Test AUC Score: {auc_score:.3f}\")"
      ]
    },
    {
      "cell_type": "markdown",
      "metadata": {
        "id": "cHRJVXUSB5_y"
      },
      "source": [
        "<br></br>\n",
        "<b><h5> Convolution Neural Network(CNN) </h5></b>"
      ]
    },
    {
      "cell_type": "code",
      "execution_count": 25,
      "metadata": {
        "id": "pMFzTqaNB5nx",
        "colab": {
          "base_uri": "https://localhost:8080/"
        },
        "outputId": "aa114aa0-7511-47da-f24c-b1fdff46127a"
      },
      "outputs": [
        {
          "output_type": "stream",
          "name": "stdout",
          "text": [
            "Model: \"sequential_1\"\n",
            "_________________________________________________________________\n",
            " Layer (type)                Output Shape              Param #   \n",
            "=================================================================\n",
            " embedding_1 (Embedding)     (None, 114, 300)          1146300   \n",
            "                                                                 \n",
            " conv1d (Conv1D)             (None, 110, 128)          192128    \n",
            "                                                                 \n",
            " global_max_pooling1d (Glob  (None, 128)               0         \n",
            " alMaxPooling1D)                                                 \n",
            "                                                                 \n",
            " dense_3 (Dense)             (None, 10)                1290      \n",
            "                                                                 \n",
            " dense_4 (Dense)             (None, 1)                 11        \n",
            "                                                                 \n",
            "=================================================================\n",
            "Total params: 1339729 (5.11 MB)\n",
            "Trainable params: 1339729 (5.11 MB)\n",
            "Non-trainable params: 0 (0.00 Byte)\n",
            "_________________________________________________________________\n"
          ]
        }
      ],
      "source": [
        "# Let's define the sequential model of convolution layers\n",
        "model_conv = Sequential()\n",
        "# Embedding layer\n",
        "model_conv.add(Embedding(input_dim=3821, output_dim=300, input_length=X_train.shape[1]))\n",
        "# 1D convolution layer\n",
        "model_conv.add(Conv1D(filters=128, kernel_size=5, activation='relu'))\n",
        "# Pooling layer\n",
        "model_conv.add(GlobalMaxPooling1D())\n",
        "# Dense layers\n",
        "model_conv.add(Dense(10, activation='relu'))\n",
        "model_conv.add(Dense(1, activation='sigmoid'))\n",
        "\n",
        "# Let's compile the model\n",
        "model_conv.compile(\n",
        "    loss='binary_crossentropy',\n",
        "    optimizer='adam',\n",
        "    metrics=['accuracy', tf.keras.metrics.AUC(name='auc')]\n",
        ")\n",
        "\n",
        "# Let's print model summary\n",
        "model_conv.summary()"
      ]
    },
    {
      "cell_type": "code",
      "execution_count": 26,
      "metadata": {
        "id": "JpJir7K4DtFN",
        "colab": {
          "base_uri": "https://localhost:8080/"
        },
        "outputId": "69d547da-4ed7-4a50-e640-03293023a859"
      },
      "outputs": [
        {
          "output_type": "stream",
          "name": "stdout",
          "text": [
            "Epoch 1/10\n",
            "35/35 [==============================] - 5s 122ms/step - loss: 0.6181 - accuracy: 0.7087 - auc: 0.8739 - val_loss: 0.4485 - val_accuracy: 0.9197 - val_auc: 0.9818\n",
            "Epoch 2/10\n",
            "35/35 [==============================] - 5s 153ms/step - loss: 0.2381 - accuracy: 0.9461 - auc: 0.9837 - val_loss: 0.1520 - val_accuracy: 0.9380 - val_auc: 0.9884\n",
            "Epoch 3/10\n",
            "35/35 [==============================] - 4s 115ms/step - loss: 0.0674 - accuracy: 0.9826 - auc: 0.9979 - val_loss: 0.1258 - val_accuracy: 0.9489 - val_auc: 0.9920\n",
            "Epoch 4/10\n",
            "35/35 [==============================] - 4s 115ms/step - loss: 0.0272 - accuracy: 0.9918 - auc: 0.9997 - val_loss: 0.1255 - val_accuracy: 0.9526 - val_auc: 0.9927\n",
            "Epoch 5/10\n",
            "35/35 [==============================] - 5s 148ms/step - loss: 0.0145 - accuracy: 0.9973 - auc: 0.9999 - val_loss: 0.1351 - val_accuracy: 0.9489 - val_auc: 0.9909\n",
            "Epoch 6/10\n",
            "35/35 [==============================] - 4s 114ms/step - loss: 0.0080 - accuracy: 0.9982 - auc: 1.0000 - val_loss: 0.1446 - val_accuracy: 0.9453 - val_auc: 0.9898\n",
            "Epoch 7/10\n",
            "35/35 [==============================] - 4s 115ms/step - loss: 0.0040 - accuracy: 1.0000 - auc: 1.0000 - val_loss: 0.1509 - val_accuracy: 0.9453 - val_auc: 0.9846\n",
            "Epoch 8/10\n",
            "35/35 [==============================] - 5s 148ms/step - loss: 0.0029 - accuracy: 1.0000 - auc: 1.0000 - val_loss: 0.1471 - val_accuracy: 0.9526 - val_auc: 0.9849\n",
            "Epoch 9/10\n",
            "35/35 [==============================] - 4s 114ms/step - loss: 0.0022 - accuracy: 1.0000 - auc: 1.0000 - val_loss: 0.1456 - val_accuracy: 0.9489 - val_auc: 0.9876\n"
          ]
        }
      ],
      "source": [
        "# Let's define early stopping callback\n",
        "early_stopping_callback = EarlyStopping(\n",
        "    monitor='val_loss',\n",
        "    patience=5,  # Increased patience\n",
        "    restore_best_weights=True\n",
        ")\n",
        "\n",
        "# Let's train the model\n",
        "history_conv_text_classifier = model_conv.fit(\n",
        "    X_train,\n",
        "    y_train,\n",
        "    validation_split=0.2,\n",
        "    batch_size=32,\n",
        "    epochs=10,\n",
        "    callbacks=[early_stopping_callback]\n",
        ")"
      ]
    },
    {
      "cell_type": "code",
      "execution_count": 27,
      "metadata": {
        "id": "qQmX7s5OHdmf",
        "colab": {
          "base_uri": "https://localhost:8080/"
        },
        "outputId": "889a410d-3700-4294-d8c6-ea7fe7faf959"
      },
      "outputs": [
        {
          "output_type": "stream",
          "name": "stdout",
          "text": [
            "CNN Test Accuracy: 95.4003%\n",
            "CNN Test AUC Score: 0.988\n"
          ]
        }
      ],
      "source": [
        "# Let's test the CNN model with best weights avialble from callback\n",
        "test_performance = model_conv.evaluate(X_test, y_test, verbose=0)\n",
        "\n",
        "# Let's extract the accuracy and AUC from the results\n",
        "accuracy = test_performance[1] * 100\n",
        "auc_score = test_performance[2]\n",
        "\n",
        "# Let's display the metrics in a formatted way\n",
        "print(f\"CNN Test Accuracy: {accuracy:.4f}%\")\n",
        "print(f\"CNN Test AUC Score: {auc_score:.3f}\")"
      ]
    }
  ],
  "metadata": {
    "accelerator": "GPU",
    "colab": {
      "provenance": [],
      "gpuType": "T4"
    },
    "kernelspec": {
      "display_name": "Python 3",
      "name": "python3"
    },
    "language_info": {
      "name": "python"
    }
  },
  "nbformat": 4,
  "nbformat_minor": 0
}